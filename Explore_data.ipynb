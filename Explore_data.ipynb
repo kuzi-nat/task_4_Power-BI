{
 "cells": [
  {
   "cell_type": "code",
   "execution_count": 2,
   "id": "83bf90b5-63aa-4d72-8fee-b9007f33c84b",
   "metadata": {},
   "outputs": [],
   "source": [
    "import pandas as pd\n"
   ]
  },
  {
   "cell_type": "code",
   "execution_count": 3,
   "id": "0056cce7-e986-4a97-966b-b92f89d15919",
   "metadata": {},
   "outputs": [
    {
     "name": "stdout",
     "output_type": "stream",
     "text": [
      "Список листов: dict_keys(['Sales', 'Dim_delivery_method', 'Dim_order', 'Dim_product', 'Dim_customer', 'Dim_manager'])\n"
     ]
    }
   ],
   "source": [
    "# Загрузка всех листов Excel файла в виде словаря\n",
    "# Ключи словаря - названия листов, значения - DataFrame с данными\n",
    "excel_file_path = 'C:\\\\Users\\\\user\\\\Downloads\\\\Data.xlsx'  \n",
    "sheets_dict = pd.read_excel(excel_file_path, sheet_name=None)\n",
    "\n",
    "# Печать имен листов\n",
    "print(\"Список листов:\", sheets_dict.keys())\n"
   ]
  },
  {
   "cell_type": "code",
   "execution_count": 4,
   "id": "fdd94971-84cb-4434-8344-2ad797233d1a",
   "metadata": {},
   "outputs": [
    {
     "name": "stdout",
     "output_type": "stream",
     "text": [
      "Лист 'Sales' загружен как DataFrame с размером (730, 10)\n",
      "Лист 'Dim_delivery_method' загружен как DataFrame с размером (2, 2)\n",
      "Лист 'Dim_order' загружен как DataFrame с размером (571, 2)\n",
      "Лист 'Dim_product' загружен как DataFrame с размером (445, 3)\n",
      "Лист 'Dim_customer' загружен как DataFrame с размером (192, 2)\n",
      "Лист 'Dim_manager' загружен как DataFrame с размером (6, 2)\n"
     ]
    }
   ],
   "source": [
    "# Создайте отдельные DataFrame для каждого листа\n",
    "for sheet_name, df in sheets_dict.items():\n",
    "    globals()[sheet_name] = df\n",
    "    print(f\"Лист '{sheet_name}' загружен как DataFrame с размером {df.shape}\")\n"
   ]
  },
  {
   "cell_type": "code",
   "execution_count": 5,
   "id": "8dcff422-b506-4af9-b836-d6b3fc68d7e5",
   "metadata": {},
   "outputs": [
    {
     "name": "stdout",
     "output_type": "stream",
     "text": [
      "   Order_ID              а  Quantity   Revenue Delivery_method   Profit  \\\n",
      "0       643           High        21  2 781.82     Express Air  -695.26   \n",
      "1      8995           High        35  3 389.93     Express Air   737.94   \n",
      "2      9127  Not Specified         7  2 039.56     Express Air  -329.49   \n",
      "3     26272            Low         6    905.94     Express Air    -4.19   \n",
      "4     36646         Medium        24  1 168.15     Express Air  -743.96   \n",
      "\n",
      "             Customer                 Region  \\\n",
      "0      Monica Federle                Nunavut   \n",
      "1          Beth Paige  Northwest Territories   \n",
      "2         Bryan Davis  Northwest Territories   \n",
      "3         Carlos Daly  Northwest Territories   \n",
      "4  Muhammed MacIntyre  Northwest Territories   \n",
      "\n",
      "                                             Product Product_package  \n",
      "0              SAFCO Commercial Wire Shelving, Black       Large Box  \n",
      "1       Luxo Professional Combination Clamp-On Lamps       Large Box  \n",
      "2  Tennsco Snap-Together Open Shelving Units, Sta...       Large Box  \n",
      "3                           Hon Olson Stacker Stools       Large Box  \n",
      "4                        Tennsco Industrial Shelving       Large Box  \n"
     ]
    }
   ],
   "source": [
    "# Sheet Sales:\n",
    "print(Sales.head()) "
   ]
  },
  {
   "cell_type": "code",
   "execution_count": 6,
   "id": "1e07ccde-0901-4843-bf86-a1082a58ce19",
   "metadata": {},
   "outputs": [
    {
     "name": "stdout",
     "output_type": "stream",
     "text": [
      "<class 'pandas.core.frame.DataFrame'>\n",
      "RangeIndex: 730 entries, 0 to 729\n",
      "Data columns (total 10 columns):\n",
      " #   Column           Non-Null Count  Dtype \n",
      "---  ------           --------------  ----- \n",
      " 0   Order_ID         730 non-null    int64 \n",
      " 1   а                730 non-null    object\n",
      " 2   Quantity         730 non-null    int64 \n",
      " 3   Revenue          730 non-null    object\n",
      " 4   Delivery_method  730 non-null    object\n",
      " 5   Profit           730 non-null    object\n",
      " 6   Customer         730 non-null    object\n",
      " 7   Region           730 non-null    object\n",
      " 8   Product          730 non-null    object\n",
      " 9   Product_package  730 non-null    object\n",
      "dtypes: int64(2), object(8)\n",
      "memory usage: 57.2+ KB\n",
      "None\n"
     ]
    }
   ],
   "source": [
    "print(Sales.info()) "
   ]
  },
  {
   "cell_type": "code",
   "execution_count": 7,
   "id": "b60f8a23-d090-417e-9aaa-af6dc4115c7d",
   "metadata": {},
   "outputs": [
    {
     "name": "stdout",
     "output_type": "stream",
     "text": [
      "           Order_ID    Quantity\n",
      "count    730.000000  730.000000\n",
      "mean   29721.597260   24.857534\n",
      "std    17350.560439   14.182970\n",
      "min       35.000000    1.000000\n",
      "25%    14479.000000   13.000000\n",
      "50%    29350.500000   25.000000\n",
      "75%    44978.500000   37.000000\n",
      "max    59909.000000   50.000000\n"
     ]
    }
   ],
   "source": [
    "print(Sales.describe()) "
   ]
  },
  {
   "cell_type": "code",
   "execution_count": 8,
   "id": "bc98b919-b226-47ed-a880-340781c100d4",
   "metadata": {},
   "outputs": [
    {
     "name": "stdout",
     "output_type": "stream",
     "text": [
      "<class 'pandas.core.frame.DataFrame'>\n",
      "RangeIndex: 730 entries, 0 to 729\n",
      "Data columns (total 10 columns):\n",
      " #   Column           Non-Null Count  Dtype  \n",
      "---  ------           --------------  -----  \n",
      " 0   Order_ID         730 non-null    int64  \n",
      " 1   а                730 non-null    object \n",
      " 2   Quantity         730 non-null    int64  \n",
      " 3   Revenue          730 non-null    float64\n",
      " 4   Delivery_method  730 non-null    object \n",
      " 5   Profit           730 non-null    float64\n",
      " 6   Customer         730 non-null    object \n",
      " 7   Region           730 non-null    object \n",
      " 8   Product          730 non-null    object \n",
      " 9   Product_package  730 non-null    object \n",
      "dtypes: float64(2), int64(2), object(6)\n",
      "memory usage: 57.2+ KB\n",
      "None\n"
     ]
    }
   ],
   "source": [
    "Sales['Revenue'] = Sales['Revenue'].str.replace('\\xa0', '')\n",
    "Sales = Sales.astype({'Revenue': 'float'})\n",
    "Sales['Profit'] = Sales['Profit'].str.replace('\\xa0', '')\n",
    "Sales = Sales.astype({'Profit': 'float'})\n",
    "print(Sales.info()) \n"
   ]
  },
  {
   "cell_type": "code",
   "execution_count": 9,
   "id": "dbf9852c-be85-4d54-ac59-9f6578d0eb0c",
   "metadata": {},
   "outputs": [
    {
     "name": "stdout",
     "output_type": "stream",
     "text": [
      "           Order_ID    Quantity       Revenue        Profit\n",
      "count    730.000000  730.000000    730.000000    730.000000\n",
      "mean   29721.597260   24.857534   1502.860164    347.650151\n",
      "std    17350.560439   14.182970   2893.895029   2380.522549\n",
      "min       35.000000    1.000000      8.000000  -4437.910000\n",
      "25%    14479.000000   13.000000    171.097500    -77.132500\n",
      "50%    29350.500000   25.000000    438.700000     -0.750000\n",
      "75%    44978.500000   37.000000   1480.855000    183.467500\n",
      "max    59909.000000   50.000000  27663.920000  44689.000000\n"
     ]
    }
   ],
   "source": [
    "print(Sales.describe()) "
   ]
  },
  {
   "cell_type": "code",
   "execution_count": 33,
   "id": "1679cc0c-cd75-4b6e-96da-86948b19b6a9",
   "metadata": {},
   "outputs": [
    {
     "name": "stdout",
     "output_type": "stream",
     "text": [
      "571\n"
     ]
    }
   ],
   "source": [
    "# Уникальные значения в колонке Order_ID:\n",
    "print(Sales['Order_ID'].nunique())"
   ]
  },
  {
   "cell_type": "code",
   "execution_count": 11,
   "id": "254167b3-14ea-4882-a963-cc66ea60922d",
   "metadata": {},
   "outputs": [
    {
     "name": "stdout",
     "output_type": "stream",
     "text": [
      "['High' 'Not Specified' 'Low' 'Medium' 'Critical']\n"
     ]
    }
   ],
   "source": [
    "# Уникальные значения в колонке а:\n",
    "print(Sales['а'].unique())"
   ]
  },
  {
   "cell_type": "code",
   "execution_count": 12,
   "id": "5a12d907-35c2-4f8e-8101-50bf11d57c98",
   "metadata": {},
   "outputs": [
    {
     "name": "stdout",
     "output_type": "stream",
     "text": [
      "['Express Air' 'Regular Air']\n"
     ]
    }
   ],
   "source": [
    "# Уникальные значения в колонке Delivery_method:\n",
    "print(Sales['Delivery_method'].unique())"
   ]
  },
  {
   "cell_type": "code",
   "execution_count": 13,
   "id": "7d1a45ea-62ba-4e4b-9665-f048199319bd",
   "metadata": {},
   "outputs": [
    {
     "name": "stdout",
     "output_type": "stream",
     "text": [
      "['Nunavut' 'Northwest Territories' 'Atlantic' 'West' 'Ontario' 'Prarie']\n"
     ]
    }
   ],
   "source": [
    "# Уникальные значения в колонке Region:\n",
    "print(Sales['Region'].unique())"
   ]
  },
  {
   "cell_type": "code",
   "execution_count": 14,
   "id": "19f3cc63-31df-42eb-89c7-c342095063b0",
   "metadata": {},
   "outputs": [
    {
     "name": "stdout",
     "output_type": "stream",
     "text": [
      "['Large Box' 'Medium Box' 'Small Box']\n"
     ]
    }
   ],
   "source": [
    "# Уникальные значения в колонке Product_package:\n",
    "print(Sales['Product_package'].unique())"
   ]
  },
  {
   "cell_type": "code",
   "execution_count": 15,
   "id": "d7fbcb4a-3a1c-45f4-b62a-28badfbf0c6c",
   "metadata": {},
   "outputs": [
    {
     "name": "stdout",
     "output_type": "stream",
     "text": [
      "        Method  Cost\n",
      "0  Express Air    10\n",
      "1  Regular Air     5\n"
     ]
    }
   ],
   "source": [
    "# Sheet Dim_delivery_method:\n",
    "print(Dim_delivery_method.head()) "
   ]
  },
  {
   "cell_type": "code",
   "execution_count": 16,
   "id": "a0848357-01db-4d7e-a673-fe8e21773bc5",
   "metadata": {},
   "outputs": [
    {
     "name": "stdout",
     "output_type": "stream",
     "text": [
      "<class 'pandas.core.frame.DataFrame'>\n",
      "RangeIndex: 2 entries, 0 to 1\n",
      "Data columns (total 2 columns):\n",
      " #   Column  Non-Null Count  Dtype \n",
      "---  ------  --------------  ----- \n",
      " 0   Method  2 non-null      object\n",
      " 1   Cost    2 non-null      int64 \n",
      "dtypes: int64(1), object(1)\n",
      "memory usage: 164.0+ bytes\n",
      "None\n"
     ]
    }
   ],
   "source": [
    "print(Dim_delivery_method.info()) "
   ]
  },
  {
   "cell_type": "code",
   "execution_count": 17,
   "id": "6250151e-235c-4787-91db-5be6af51ff75",
   "metadata": {},
   "outputs": [
    {
     "name": "stdout",
     "output_type": "stream",
     "text": [
      "   Order_ID       Date\n",
      "0        35 2022-01-01\n",
      "1       293 2022-01-01\n",
      "2       322 2022-01-01\n",
      "3       450 2022-01-01\n",
      "4       483 2022-01-01\n"
     ]
    }
   ],
   "source": [
    "# Sheet Dim_order:\n",
    "print(Dim_order.head()) "
   ]
  },
  {
   "cell_type": "code",
   "execution_count": 18,
   "id": "03f40a9d-a408-41d9-a55f-52a10977a1d8",
   "metadata": {},
   "outputs": [
    {
     "name": "stdout",
     "output_type": "stream",
     "text": [
      "<class 'pandas.core.frame.DataFrame'>\n",
      "RangeIndex: 571 entries, 0 to 570\n",
      "Data columns (total 2 columns):\n",
      " #   Column    Non-Null Count  Dtype         \n",
      "---  ------    --------------  -----         \n",
      " 0   Order_ID  571 non-null    int64         \n",
      " 1   Date      571 non-null    datetime64[ns]\n",
      "dtypes: datetime64[ns](1), int64(1)\n",
      "memory usage: 9.1 KB\n",
      "None\n"
     ]
    }
   ],
   "source": [
    "print(Dim_order.info()) "
   ]
  },
  {
   "cell_type": "code",
   "execution_count": 19,
   "id": "1d2780b5-29d0-4a03-b0a3-54c2bec47399",
   "metadata": {},
   "outputs": [
    {
     "name": "stdout",
     "output_type": "stream",
     "text": [
      "          Category             Subcategory  \\\n",
      "0  Office Supplies  Storage & Organization   \n",
      "1        Furniture      Office Furnishings   \n",
      "2  Office Supplies  Storage & Organization   \n",
      "3        Furniture      Chairs & Chairmats   \n",
      "4  Office Supplies  Storage & Organization   \n",
      "\n",
      "                                             Product  \n",
      "0              SAFCO Commercial Wire Shelving, Black  \n",
      "1       Luxo Professional Combination Clamp-On Lamps  \n",
      "2  Tennsco Snap-Together Open Shelving Units, Sta...  \n",
      "3                           Hon Olson Stacker Stools  \n",
      "4                        Tennsco Industrial Shelving  \n"
     ]
    }
   ],
   "source": [
    "# Sheet Dim_product:\n",
    "print(Dim_product.head()) "
   ]
  },
  {
   "cell_type": "code",
   "execution_count": 20,
   "id": "2dcabcd3-04b1-409c-9ca7-f1a28e4a7d28",
   "metadata": {},
   "outputs": [
    {
     "name": "stdout",
     "output_type": "stream",
     "text": [
      "<class 'pandas.core.frame.DataFrame'>\n",
      "RangeIndex: 445 entries, 0 to 444\n",
      "Data columns (total 3 columns):\n",
      " #   Column       Non-Null Count  Dtype \n",
      "---  ------       --------------  ----- \n",
      " 0   Category     445 non-null    object\n",
      " 1   Subcategory  445 non-null    object\n",
      " 2   Product      445 non-null    object\n",
      "dtypes: object(3)\n",
      "memory usage: 10.6+ KB\n",
      "None\n"
     ]
    }
   ],
   "source": [
    "print(Dim_product.info()) "
   ]
  },
  {
   "cell_type": "code",
   "execution_count": 21,
   "id": "d020c5a5-5990-4593-a172-18596ef40556",
   "metadata": {},
   "outputs": [
    {
     "name": "stdout",
     "output_type": "stream",
     "text": [
      "               Category                     Subcategory  \\\n",
      "count               445                             445   \n",
      "unique                3                              15   \n",
      "top     Office Supplies  Binders and Binder Accessories   \n",
      "freq                284                              79   \n",
      "\n",
      "                                      Product  \n",
      "count                                     445  \n",
      "unique                                    445  \n",
      "top     SAFCO Commercial Wire Shelving, Black  \n",
      "freq                                        1  \n"
     ]
    }
   ],
   "source": [
    "print(Dim_product.describe()) "
   ]
  },
  {
   "cell_type": "code",
   "execution_count": 22,
   "id": "4a7c95f0-fa04-41d0-ab23-6f7bc0308a4d",
   "metadata": {},
   "outputs": [
    {
     "name": "stdout",
     "output_type": "stream",
     "text": [
      "['Office Supplies' 'Furniture' 'Technology']\n"
     ]
    }
   ],
   "source": [
    "print(Dim_product['Category'].unique())"
   ]
  },
  {
   "cell_type": "code",
   "execution_count": 23,
   "id": "3ac470e1-489b-42b0-8929-c227c89d1114",
   "metadata": {},
   "outputs": [
    {
     "name": "stdout",
     "output_type": "stream",
     "text": [
      "['Storage & Organization' 'Office Furnishings' 'Chairs & Chairmats'\n",
      " 'Appliances' 'Copiers and Fax' 'Office Machines' 'Tables'\n",
      " 'Telephones and Communication' 'Scissors, Rulers and Trimmers' 'Labels'\n",
      " 'Paper' 'Binders and Binder Accessories' 'Computer Peripherals'\n",
      " 'Envelopes' 'Pens & Art Supplies']\n"
     ]
    }
   ],
   "source": [
    "print(Dim_product['Subcategory'].unique())"
   ]
  },
  {
   "cell_type": "code",
   "execution_count": 24,
   "id": "63fe9757-ab8b-4720-98f3-800e56f52637",
   "metadata": {},
   "outputs": [
    {
     "name": "stdout",
     "output_type": "stream",
     "text": [
      "          Customer         Segment\n",
      "0    Aaron Bergman       Corporate\n",
      "1  Adam Bellavance  Small Business\n",
      "2      Alan Barnes       Corporate\n",
      "3       Alex Avila     Home Office\n",
      "4       Alex Avila       Corporate\n"
     ]
    }
   ],
   "source": [
    "# Sheet Dim_customer:\n",
    "print(Dim_customer.head()) "
   ]
  },
  {
   "cell_type": "code",
   "execution_count": 25,
   "id": "c863a384-ea53-43b1-979c-ca7f2d3f325f",
   "metadata": {},
   "outputs": [
    {
     "name": "stdout",
     "output_type": "stream",
     "text": [
      "<class 'pandas.core.frame.DataFrame'>\n",
      "RangeIndex: 192 entries, 0 to 191\n",
      "Data columns (total 2 columns):\n",
      " #   Column    Non-Null Count  Dtype \n",
      "---  ------    --------------  ----- \n",
      " 0   Customer  192 non-null    object\n",
      " 1   Segment   192 non-null    object\n",
      "dtypes: object(2)\n",
      "memory usage: 3.1+ KB\n",
      "None\n"
     ]
    }
   ],
   "source": [
    "print(Dim_customer.info()) "
   ]
  },
  {
   "cell_type": "code",
   "execution_count": 26,
   "id": "d9fa3424-c8e5-41cc-8d07-e8a6b25206a0",
   "metadata": {},
   "outputs": [
    {
     "name": "stdout",
     "output_type": "stream",
     "text": [
      "            Customer    Segment\n",
      "count            192        192\n",
      "unique           173          4\n",
      "top     Khloe Miller  Corporate\n",
      "freq               3        105\n"
     ]
    }
   ],
   "source": [
    "print(Dim_customer.describe()) "
   ]
  },
  {
   "cell_type": "code",
   "execution_count": 27,
   "id": "3ad4f802-b0f4-495a-87c2-bf7dd0ff40d0",
   "metadata": {},
   "outputs": [
    {
     "name": "stdout",
     "output_type": "stream",
     "text": [
      "['Corporate' 'Small Business' 'Home Office' 'Consumer']\n"
     ]
    }
   ],
   "source": [
    "print(Dim_customer['Segment'].unique())"
   ]
  },
  {
   "cell_type": "code",
   "execution_count": 28,
   "id": "bd0a73a9-e028-4c36-9274-c50dac769a63",
   "metadata": {},
   "outputs": [
    {
     "name": "stdout",
     "output_type": "stream",
     "text": [
      "Empty DataFrame\n",
      "Columns: [Customer, Segment]\n",
      "Index: []\n"
     ]
    }
   ],
   "source": [
    "# Проверка на дубли:\n",
    "print(Dim_customer[Dim_customer.duplicated(keep=False)])"
   ]
  },
  {
   "cell_type": "code",
   "execution_count": 29,
   "id": "0fb1aacd-0b55-48b3-a71d-30b79792e748",
   "metadata": {},
   "outputs": [
    {
     "name": "stdout",
     "output_type": "stream",
     "text": [
      "                  Region                Manager\n",
      "0                Nunavut            Ivan Petrov\n",
      "1  Northwest Territories            Petr Ivanov\n",
      "2               Atlantic     Vladislav Semeykin\n",
      "3                   West       Vanessa Marigold\n",
      "4                Ontario  Archibald Krestyianin\n"
     ]
    }
   ],
   "source": [
    "# Sheet Dim_manager:\n",
    "print(Dim_manager.head()) "
   ]
  },
  {
   "cell_type": "code",
   "execution_count": 30,
   "id": "e57b7246-c8de-4407-a1e1-6ea1d837b7ac",
   "metadata": {},
   "outputs": [
    {
     "name": "stdout",
     "output_type": "stream",
     "text": [
      "<class 'pandas.core.frame.DataFrame'>\n",
      "RangeIndex: 6 entries, 0 to 5\n",
      "Data columns (total 2 columns):\n",
      " #   Column   Non-Null Count  Dtype \n",
      "---  ------   --------------  ----- \n",
      " 0   Region   6 non-null      object\n",
      " 1   Manager  6 non-null      object\n",
      "dtypes: object(2)\n",
      "memory usage: 228.0+ bytes\n",
      "None\n"
     ]
    }
   ],
   "source": [
    "print(Dim_manager.info()) "
   ]
  },
  {
   "cell_type": "code",
   "execution_count": 31,
   "id": "e1ef4209-0ddf-4aed-94ff-bea839c6461d",
   "metadata": {},
   "outputs": [
    {
     "name": "stdout",
     "output_type": "stream",
     "text": [
      "         Region      Manager\n",
      "count         6            6\n",
      "unique        6            6\n",
      "top     Nunavut  Ivan Petrov\n",
      "freq          1            1\n"
     ]
    }
   ],
   "source": [
    "print(Dim_manager.describe()) "
   ]
  },
  {
   "cell_type": "code",
   "execution_count": 32,
   "id": "c3f9e273-26de-4d6a-922c-7834fd3d8fc8",
   "metadata": {},
   "outputs": [
    {
     "name": "stdout",
     "output_type": "stream",
     "text": [
      "['Nunavut' 'Northwest Territories' 'Atlantic' 'West' 'Ontario' 'Prarie']\n"
     ]
    }
   ],
   "source": [
    "print(Dim_manager['Region'].unique())"
   ]
  },
  {
   "cell_type": "code",
   "execution_count": null,
   "id": "8c0eaeda-9fbf-4cc5-aaab-18de0e1fcd82",
   "metadata": {},
   "outputs": [],
   "source": []
  }
 ],
 "metadata": {
  "kernelspec": {
   "display_name": "Python 3 (ipykernel)",
   "language": "python",
   "name": "python3"
  },
  "language_info": {
   "codemirror_mode": {
    "name": "ipython",
    "version": 3
   },
   "file_extension": ".py",
   "mimetype": "text/x-python",
   "name": "python",
   "nbconvert_exporter": "python",
   "pygments_lexer": "ipython3",
   "version": "3.12.2"
  }
 },
 "nbformat": 4,
 "nbformat_minor": 5
}
